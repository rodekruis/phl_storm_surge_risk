{
 "cells": [
  {
   "cell_type": "markdown",
   "id": "1ba4cccf",
   "metadata": {},
   "source": [
    "## Flood data pipeline \n",
    "This notebook discribes the flood data piepline which in short can be disccribed as automated trigger monitoring tool\n"
   ]
  },
  {
   "cell_type": "code",
   "execution_count": 6,
   "id": "ae8fccc8",
   "metadata": {},
   "outputs": [],
   "source": [
    "import traceback\n",
    "import time\n",
    "import datetime\n",
    "import os\n",
    "import logging\n",
    "import zipfile  \n",
    "import pandas as pd\n",
    "import json\n",
    "from shapely import wkb, wkt\n",
    "import geopandas"
   ]
  },
  {
   "cell_type": "markdown",
   "id": "de259947",
   "metadata": {},
   "source": [
    "### Step2 import modules "
   ]
  },
  {
   "cell_type": "code",
   "execution_count": null,
   "id": "25d6bdf6",
   "metadata": {},
   "outputs": [],
   "source": [
    "os.chdir('C:/Users/ATeklesadik/OneDrive - Rode Kruis/Documents/documents/IBF_FLOOD_PIPELINE/pipeline/lib')"
   ]
  },
  {
   "cell_type": "code",
   "execution_count": 7,
   "id": "011212bb",
   "metadata": {},
   "outputs": [],
   "source": [
    "from flood_model.settings import *\n",
    "from flood_model.dynamicDataDb import DatabaseManager as dbm\n",
    "from flood_model.forecast import Forecast\n",
    "try:\n",
    "    from flood_model.secrets import *\n",
    "except ImportError:\n",
    "    print('No secrets file found.')\n",
    "from flood_model.exposure import Exposure \n",
    "from google_drive_downloader import GoogleDriveDownloader as gdd\n",
    "os.chdir('C:/Users/ATeklesadik/OneDrive - Rode Kruis/Documents/documents/IBF_FLOOD_PIPELINE/pipeline')"
   ]
  },
  {
   "cell_type": "code",
   "execution_count": null,
   "id": "722e788b",
   "metadata": {},
   "outputs": [],
   "source": []
  },
  {
   "cell_type": "code",
   "execution_count": null,
   "id": "912b265a",
   "metadata": {},
   "outputs": [],
   "source": [
    "startTime = time.time() \n",
    "logger.info(str(datetime.datetime.now()))\n",
    "dbm_ = dbm('5-day', 'ETH',3)\n",
    "filename='data.zip'\n",
    "path = 'flood/Gold/datapipeline/'+ filename\n",
    "#admin_area_json1['geometry'] = admin_area_json1.pop('geom')\n",
    "DataFile = dbm_.getDataFromDatalake(path)\n",
    "if DataFile.status_code >= 400:\n",
    "    raise ValueError()\n",
    "open('./' + filename, 'wb').write(DataFile.content)\n",
    "path_to_zip_file='./'+filename\n",
    "with zipfile.ZipFile(path_to_zip_file, 'r') as zip_ref:\n",
    "    zip_ref.extractall('./data')\n",
    "\n",
    "#gdd.download_file_from_google_drive(file_id=GOOGLE_DRIVE_DATA_URL,dest_path='./data/data_flood.zip',overwrite=True,unzip=True)\n",
    "logger.info('finished data download')\n",
    "logger.info(str(datetime.datetime.now()))    "
   ]
  },
  {
   "cell_type": "code",
   "execution_count": null,
   "id": "99c6016e",
   "metadata": {},
   "outputs": [],
   "source": [
    "for COUNTRY_CODE in COUNTRY_CODES:\n",
    "    logger.info(f'--------STARTING: {COUNTRY_CODE}' + '--------------------------')\n",
    "    COUNTRY_SETTINGS = SETTINGS[COUNTRY_CODE]\n",
    "    LEAD_TIMES = COUNTRY_SETTINGS['lead_times']\n",
    "\n",
    "    for leadTimeLabel, leadTimeValue in LEAD_TIMES.items():\n",
    "        logger.info(f'--------STARTING: {leadTimeLabel}' + '--------------------------')\n",
    "        fc = Forecast(leadTimeLabel, leadTimeValue, COUNTRY_CODE,COUNTRY_SETTINGS['admin_level'])\n",
    "        fc.glofasData.process()\n",
    "        logger.info('--------Finished GLOFAS data Processing')\n",
    "        fc.floodExtent.calculate()\n",
    "        logger.info('--------Finished flood extent')\n",
    "        fc.exposure.callAllExposure()\n",
    "        logger.info('--------Finished exposure')\n",
    "        fc.db.upload()\n",
    "        logger.info('--------Finished upload')\n",
    "        fc.db.sendNotification()\n",
    "        logger.info('--------Finished notification')\n",
    "\n",
    "\n",
    "\n",
    "\n"
   ]
  }
 ],
 "metadata": {
  "kernelspec": {
   "display_name": "Python 3 (ipykernel)",
   "language": "python",
   "name": "python3"
  },
  "language_info": {
   "codemirror_mode": {
    "name": "ipython",
    "version": 3
   },
   "file_extension": ".py",
   "mimetype": "text/x-python",
   "name": "python",
   "nbconvert_exporter": "python",
   "pygments_lexer": "ipython3",
   "version": "3.8.10"
  }
 },
 "nbformat": 4,
 "nbformat_minor": 5
}
